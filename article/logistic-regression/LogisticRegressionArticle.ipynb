{
 "cells": [
  {
   "cell_type": "markdown",
   "metadata": {},
   "source": [
    "# Everything you need to know about Logistic Regression"
   ]
  },
  {
   "cell_type": "markdown",
   "metadata": {},
   "source": [
    "## Table of contents\n",
    "* [Math behind logistic regression and implementation](#some-math)\n",
    "    * [Problem definition](#problem-definition1)\n",
    "    * [Functions](#functions1)\n",
    "    * [Running the model with Gradient Descent](#running-gd)\n",
    "    * [Running the model with BFGS algorithm](#running-bfgs)\n",
    "    * [Make a prediction](#make-prediction)\n",
    "* [Regularized logistic regression](#regularized)\n",
    "    * [Problem definition](#problem-definition2)\n",
    "    * [Feature mapping](#feature-mapping)\n",
    "    * [Functions](#functions2)\n",
    "    * [Running the model](#running)\n",
    "* [Multiclass Classification: One-vs-all](#one-vs-all)\n",
    "    * [Functions](#functions3)\n",
    "    * [Train the model choosing the best lambda value](#best-lambda)\n",
    "* [Compare our logistic regression to sklearn logistic regression](#compare-sklearn)\n",
    "* [Compare logistic regression to SVM](#compare-svm) "
   ]
  },
  {
   "cell_type": "markdown",
   "metadata": {},
   "source": [
    "## Math behind logistic regression  and implementation <a class=\"anchor\" id=\"some-math\"></a>"
   ]
  },
  {
   "cell_type": "markdown",
   "metadata": {},
   "source": [
    "Logistic regression, as linear regression, is an algorithm that falls into the category of *Supervised Learning*, which means that we have the label (dependent variable) for each training example.\n",
    "Linear regression goal is to fit a straight line to the data, trying to capture what is the trend of the data (read my [article](http://petrupotrimba.altervista.org/image-post.php?id=1#img) about linear regression if you didn't). <br>\n",
    "By contrast, the **logistic regression goal** is to find the best decision boundary that separates the data in different classes. <br>\n",
    "In short, logistic regression answer you at questions like \"**Is it a cat or dog?**\"."
   ]
  },
  {
   "cell_type": "markdown",
   "metadata": {},
   "source": [
    "Now let's deep dive into the math behind. <br>\n",
    "As always, we have an *hypothesis* function and a *cost function* (or loss function) which we need to minimize using some optimization algorithm in order to find the best parameter that yields to the best decision boundary that separates our data into different classes."
   ]
  },
  {
   "cell_type": "markdown",
   "metadata": {},
   "source": [
    "The logistic regression hypothesis is defined as:"
   ]
  },
  {
   "cell_type": "markdown",
   "metadata": {},
   "source": [
    "$$h_\\theta(x) = g(\\theta^Tx)$$ where $g$ is the sigmoid function: $$g(z) = \\frac{1}{1+e^{-z}}$$"
   ]
  },
  {
   "cell_type": "markdown",
   "metadata": {},
   "source": [
    "$g$ models the relationship between $p(x) = Pr(y=1|x)$ and $x$. As you can see, the equation relating the two variables is clearly non linear (it has to be like that as we want $g$ to follow the constraints of a Cumulative Distribution Function, i.e. with outputs constrained between 0 and 1 and with an inflection point at 0.5). It is interesting to notice that logistic regression is by definition a linear model. In what is it actually linear?"
   ]
  },
  {
   "cell_type": "markdown",
   "metadata": {},
   "source": [
    "Turns out that one can show the following:"
   ]
  },
  {
   "cell_type": "markdown",
   "metadata": {},
   "source": [
    "$$log(\\frac{p(x)}{1 - p(x)}) = \\theta^Tx$$"
   ]
  },
  {
   "cell_type": "markdown",
   "metadata": {},
   "source": [
    "The quantity $\\frac{p(x)}{1 - p(x)}$ is called the *odds*. The previous manipulation shows that the logistic regression model has a logit (log-odds) which is linear in $x$."
   ]
  },
  {
   "cell_type": "markdown",
   "metadata": {},
   "source": [
    "The coefficients $\\theta$ are unknown and must be estimated based on the available training data. In the linear regression context we used the least squares approach, minimizing $J(\\theta) = \\frac{1}{2m} \\sum_{i=1}^{m} (h_\\theta(x^{(i)}) - y^{(i)})^2 $. Within the logistic regression framework we need to do the same but we actually can't use the identical cost function definition as before, due to it not being convex (i.e. it would have many local minima). Hence we turn to the more general *maximum likelihood* method. This is the basic intuition behind it: we seek estimates for $\\theta$ such that the predicted probability $p(x)$ of success (assuming a binary classification problem) for each observation, corresponds as closely as possible to the observation’s actual status (success/failure). In other words, we try to find $\\theta$ such that plugging\n",
    "these estimates into the model for $p(x)$, yields a number close to *one* for all individuals who successed, and a number close to *zero* for all individuals who did not. This intuition can be formalized using a mathematical equation called a likelihood function (which we need to maximize):"
   ]
  },
  {
   "cell_type": "markdown",
   "metadata": {},
   "source": [
    "$l(\\theta) = \\prod_{i:y_1=1}p(x_i) \\prod_{i:y_1=0}(1-p(x_i)) $"
   ]
  },
  {
   "cell_type": "markdown",
   "metadata": {},
   "source": [
    "Computing the negative log of the whole equation and rearranging the terms leads us to the final cost function for the logistic regression model (which we now need to minimize):"
   ]
  },
  {
   "cell_type": "markdown",
   "metadata": {},
   "source": [
    "$$J(\\theta) = \\frac{1}{m}\\sum_{i=1}^m(-y_i log(h_i(\\theta)) - (1-y_i)log(1-h_i(\\theta)))$$"
   ]
  },
  {
   "cell_type": "markdown",
   "metadata": {},
   "source": [
    "The model's parameters are the $\\theta_j$ values. These are the values that need to be adjusted to minimize cost $J(\\theta)$ . One way to do this is to use the batch gradient descent algorithm. In batch gradient descent, each iteration performs the update:\n",
    "\n",
    "$$\\theta_j := \\theta_j - \\frac{\\alpha}{m} \\sum_{i=1}^{m} (h_\\theta(x^{(i)}) - y^{(i)}) x_j^{(i)}$$ (simultaneously update $\\theta_j$ for all $j$);\n",
    "With each step of gradient descent, the parameters $\\theta_j$ come closer to the optimal values that will achieve the lowest cost $J(\\theta)$."
   ]
  },
  {
   "cell_type": "markdown",
   "metadata": {},
   "source": [
    "Note that while this gradient looks identical to linear regression gradient, the formula is actually different because linear and logistic regression have different definitions of $h_\\theta(x)$."
   ]
  },
  {
   "cell_type": "markdown",
   "metadata": {},
   "source": [
    "Now, to really understand how logistic regression works, let's implement it from scratch and apply it to a dummy exercise."
   ]
  },
  {
   "cell_type": "markdown",
   "metadata": {},
   "source": [
    "### Problem definition <a class=\"anchor\" id=\"problem-definition1\"></a>"
   ]
  },
  {
   "cell_type": "markdown",
   "metadata": {},
   "source": [
    "Suppose that you are the administrator of a university department and you want to determine each applicant's chance of admission based on their results on two exams. You have historical data from previous applicants that you can use as a training set for logistic regression. For each training example, you have the applicant's scores on two exams and the admissions decision. Your task is to build a classification model that estimates an applicant's probability of admission based the scores from those two exams."
   ]
  },
  {
   "cell_type": "markdown",
   "metadata": {},
   "source": [
    "Let's load the dataset. "
   ]
  },
  {
   "cell_type": "code",
   "execution_count": 1,
   "metadata": {},
   "outputs": [
    {
     "data": {
      "text/html": [
       "<style>.rendered_html { font-size: 17px; }</style>"
      ],
      "text/plain": [
       "<IPython.core.display.HTML object>"
      ]
     },
     "metadata": {},
     "output_type": "display_data"
    }
   ],
   "source": [
    "import numpy as np\n",
    "import pandas as pd\n",
    "import seaborn as sns\n",
    "import matplotlib.pyplot as plt\n",
    "plt.style.use('ggplot')\n",
    "plt.rcParams['figure.figsize'] = (18, 12)\n",
    "from IPython.core.display import display, HTML\n",
    "display(HTML(\"<style>.rendered_html { font-size: 17px; }</style>\"))"
   ]
  },
  {
   "cell_type": "code",
   "execution_count": 2,
   "metadata": {},
   "outputs": [],
   "source": [
    "students_exams = pd.read_csv('ex2data1.txt', \n",
    "                            header=None,\n",
    "                            names=['FirstExamScore', 'SecondExamScore', 'Results'])\n",
    "students_exams['Admission'] = np.where(students_exams['Results']==0, 'Not Admitted', 'Admitted')"
   ]
  },
  {
   "cell_type": "code",
   "execution_count": 3,
   "metadata": {},
   "outputs": [],
   "source": [
    "#g = sns.lmplot(\"FirstExamScore\", \"SecondExamScore\", hue=\"Admission\", \n",
    "               #data=students_exams, markers=[\"o\", \"x\"], fit_reg=False, height=12, scatter_kws={\"s\": 100})"
   ]
  },
  {
   "cell_type": "markdown",
   "metadata": {},
   "source": [
    "<img src=\"article/logistic-regression/img/1.png\" alt=\"\" style=\"width: 1000px;\"/>"
   ]
  },
  {
   "cell_type": "code",
   "execution_count": 4,
   "metadata": {},
   "outputs": [],
   "source": [
    "X = students_exams.iloc[:, 0:2]\n",
    "# add bias term\n",
    "X = np.c_[np.ones(X.shape[0]), X]\n",
    "y = students_exams.iloc[:, 2:3]"
   ]
  },
  {
   "cell_type": "markdown",
   "metadata": {},
   "source": [
    "### Functions <a class=\"anchor\" id=\"functions1\"></a>"
   ]
  },
  {
   "cell_type": "markdown",
   "metadata": {},
   "source": [
    "Here I implemented the necessary function for run logistic regression along with some utility function to plot the result."
   ]
  },
  {
   "cell_type": "code",
   "execution_count": 5,
   "metadata": {},
   "outputs": [],
   "source": [
    "def sigmoid(z):\n",
    "    return 1/(1+np.exp(-z))\n",
    "\n",
    "def costFunction(theta, X, y):\n",
    "    m = y.shape[0]\n",
    "    h = sigmoid(np.dot(theta.T, X.T))\n",
    "    cost = (1/m)*(np.dot(-y.T,np.log(h).T) - np.dot((1-y).T,np.log(1-h).T))\n",
    "    if np.isnan(cost):\n",
    "        return np.inf\n",
    "    return cost\n",
    "\n",
    "def computeGradient(theta, X, y):\n",
    "    theta = theta.reshape(-1, 1)\n",
    "    m = y.shape[0]\n",
    "    h = sigmoid(np.dot(theta.T, X.T))\n",
    "    gradient = (1/m)*(np.dot((h.T-y).T, X))\n",
    "    return gradient.flatten()\n",
    "\n",
    "def gradientDescent(X, y, theta, alpha, iterations):\n",
    "    m = y.shape[0]\n",
    "    J_history = np.zeros((iterations, 1))\n",
    "    for i in range(iterations):\n",
    "        hypothesis_minus_y = (sigmoid(np.dot(theta.T, X.T).T)-y).T \n",
    "        theta = (theta.T - (alpha/m)*(np.dot(hypothesis_minus_y, X))).T \n",
    "        J_history[i] = costFunction(theta, X, y)\n",
    "    return theta, J_history\n",
    "\n",
    "def plotDecisionBoundary(X, theta):\n",
    "    plotx = np.array([min(X[:,1])-2, max(X[:,1])+2])\n",
    "    ploty = -(theta[1] * plotx + theta[0])/theta[2]\n",
    "    return plotx, ploty\n",
    "\n",
    "def predict(X, theta):\n",
    "    prob = sigmoid(X.dot(theta))\n",
    "    p = np.where(prob < 0.5, 0, 1)\n",
    "    return p.reshape(-1, 1)"
   ]
  },
  {
   "cell_type": "markdown",
   "metadata": {},
   "source": [
    "### Running the model with Gradient Descent <a class=\"anchor\" id=\"running-gd\"></a>"
   ]
  },
  {
   "cell_type": "code",
   "execution_count": 6,
   "metadata": {},
   "outputs": [
    {
     "name": "stdout",
     "output_type": "stream",
     "text": [
      "Theta found by gradient descent: intercept=[-24.99997875], slope=[0.20494106], slope=[0.20016601] \n"
     ]
    }
   ],
   "source": [
    "theta = np.array([-25, 0.2, 0.2]).reshape(-1, 1)                                               \n",
    "iterations =400\n",
    "alpha = 0.001\n",
    "theta, J_history = gradientDescent(X, y, theta, alpha, iterations)\n",
    "print(\"Theta found by gradient descent: intercept={0}, slope={1}, slope={2} \".format(theta[0],theta[1], theta[2]))"
   ]
  },
  {
   "cell_type": "markdown",
   "metadata": {},
   "source": [
    "In order to know if our implementation of Gradient Descent is correct, we use the `check_grad` function which compare our implementation against a (forward) finite-difference approximation of the gradient. If the difference between our implementation and the finite-difference approximation of the gradient is small, that means that our implementatio is correct! <br>\n",
    "Let's figure it out!"
   ]
  },
  {
   "cell_type": "code",
   "execution_count": 7,
   "metadata": {},
   "outputs": [
    {
     "data": {
      "text/plain": [
       "2.7219429489882173e-06"
      ]
     },
     "execution_count": 7,
     "metadata": {},
     "output_type": "execute_result"
    }
   ],
   "source": [
    "from scipy.optimize import check_grad\n",
    "check_grad(costFunction, computeGradient, theta.squeeze(), X, y)"
   ]
  },
  {
   "cell_type": "markdown",
   "metadata": {},
   "source": [
    "As we can see, the error is small, great!"
   ]
  },
  {
   "cell_type": "markdown",
   "metadata": {},
   "source": [
    "Another useful check to do is to look at the values of cost function for each iterations. <br>\n",
    "We should see that the cost is decreasing at each iteration until it converges to a value."
   ]
  },
  {
   "cell_type": "code",
   "execution_count": 8,
   "metadata": {},
   "outputs": [],
   "source": [
    "#fig = plt.figure()\n",
    "#ax = fig.add_subplot(1, 1, 1)\n",
    "#ax.plot(range(iterations), J_history, linewidth=6)\n",
    "#plt.ylabel('Cost Value')\n",
    "#plt.xlabel('Iteration of Gradient Descent')\n",
    "#plt.show()"
   ]
  },
  {
   "cell_type": "markdown",
   "metadata": {},
   "source": [
    "<img src=\"article/logistic-regression/img/2.png\" alt=\"\" style=\"width: 1000px;\"/>"
   ]
  },
  {
   "cell_type": "markdown",
   "metadata": {},
   "source": [
    "Fine, the cost is decreasing. <br>\n",
    "Now we are ready to plot the decision boundary we learned."
   ]
  },
  {
   "cell_type": "code",
   "execution_count": 9,
   "metadata": {},
   "outputs": [],
   "source": [
    "#plotx, ploty= plotDecisionBoundary(X, theta)\n",
    "#g = sns.lmplot(\"FirstExamScore\", \"SecondExamScore\", hue=\"Admission\", \n",
    "                #data=students_exams, markers=[\"o\", \"x\"], fit_reg=False, height=12, legend=False, scatter_kws={\"s\": 100})\n",
    "#ax = g.ax\n",
    "#ax.plot(plotx, ploty, color='k', label='Decision Boundary', linewidth=6)\n",
    "#legend = ax.legend(loc=1, shadow=True)\n",
    "#plt.show()"
   ]
  },
  {
   "cell_type": "markdown",
   "metadata": {},
   "source": [
    "<img src=\"article/logistic-regression/img/3.png\" alt=\"\" style=\"width: 1000px;\"/>"
   ]
  },
  {
   "cell_type": "code",
   "execution_count": 10,
   "metadata": {},
   "outputs": [
    {
     "name": "stdout",
     "output_type": "stream",
     "text": [
      "Model accuracy:  89.0 %\n"
     ]
    }
   ],
   "source": [
    "prob = predict(X, theta)\n",
    "p = np.where(prob == y, 1, 0)\n",
    "print(\"Model accuracy: \", p.sum()/y.shape[0] * 100, \"%\")"
   ]
  },
  {
   "cell_type": "markdown",
   "metadata": {},
   "source": [
    "### Running the model with  BFGS algorithm <a class=\"anchor\" id=\"running-bfgs\"></a>"
   ]
  },
  {
   "cell_type": "markdown",
   "metadata": {},
   "source": [
    "Sometimes gradient descent get stock in a different local optima and does not return the best parameter for our model, i.e. the model accuracy is not so good.\n",
    "To find out if is it the case, we are going to use a different minimization algorithm and look if the accuracy alters. <br>\n",
    "In this case we use *Broyden–Fletcher–Goldfarb–Shanno* algorithm (BFGS algorithm)."
   ]
  },
  {
   "cell_type": "code",
   "execution_count": 11,
   "metadata": {},
   "outputs": [
    {
     "name": "stdout",
     "output_type": "stream",
     "text": [
      "Optimization terminated successfully.\n",
      "         Current function value: 0.203498\n",
      "         Iterations: 25\n",
      "         Function evaluations: 34\n",
      "         Gradient evaluations: 30\n"
     ]
    },
    {
     "name": "stderr",
     "output_type": "stream",
     "text": [
      "/home/pptr/.conda/envs/fastai/lib/python3.6/site-packages/ipykernel_launcher.py:7: RuntimeWarning: divide by zero encountered in log\n",
      "  import sys\n",
      "/home/pptr/.conda/envs/fastai/lib/python3.6/site-packages/ipykernel_launcher.py:7: RuntimeWarning: divide by zero encountered in log\n",
      "  import sys\n"
     ]
    }
   ],
   "source": [
    "from scipy import optimize\n",
    "initial_theta = np.array([0.0, 0.0, 0.0]).T\n",
    "theta = optimize.fmin_bfgs(f=costFunction, x0=initial_theta, args=(X, y), fprime=computeGradient)"
   ]
  },
  {
   "cell_type": "code",
   "execution_count": 12,
   "metadata": {},
   "outputs": [],
   "source": [
    "#plotx, ploty= plotDecisionBoundary(X, theta)\n",
    "#g = sns.lmplot(\"FirstExamScore\", \"SecondExamScore\", hue=\"Admission\", \n",
    "               #data=students_exams, markers=[\"o\", \"x\"], fit_reg=False, height=12, legend=False, scatter_kws={\"s\": 100})\n",
    "#ax = g.ax\n",
    "#ax.plot(plotx, ploty, color='k', label='Decision Boundary', linewidth=6)\n",
    "#legend = ax.legend(loc=1, shadow=True)\n",
    "#plt.show()"
   ]
  },
  {
   "cell_type": "markdown",
   "metadata": {},
   "source": [
    "<img src=\"article/logistic-regression/img/4.png\" alt=\"\" style=\"width: 1000px;\"/>"
   ]
  },
  {
   "cell_type": "code",
   "execution_count": 13,
   "metadata": {},
   "outputs": [
    {
     "name": "stdout",
     "output_type": "stream",
     "text": [
      "Model accuracy:  89.0 %\n"
     ]
    }
   ],
   "source": [
    "prob = predict(X, theta)\n",
    "p = np.where(prob == y, 1, 0)\n",
    "print(\"Model accuracy: \", p.sum()/y.shape[0] * 100, \"%\")"
   ]
  },
  {
   "cell_type": "markdown",
   "metadata": {},
   "source": [
    "The accuracy remains the same, that means that our gradient descent actually found the global optima, i.e. the best parameter for our model."
   ]
  },
  {
   "cell_type": "markdown",
   "metadata": {},
   "source": [
    "### Make a prediction <a class=\"anchor\" id=\"make-prediction\"></a>"
   ]
  },
  {
   "cell_type": "markdown",
   "metadata": {},
   "source": [
    "For a student with an Exam 1 score of 45 and Exam 2 score of 85, his admission probability is 0.776."
   ]
  },
  {
   "cell_type": "code",
   "execution_count": 14,
   "metadata": {},
   "outputs": [
    {
     "data": {
      "text/plain": [
       "0.7762903249331021"
      ]
     },
     "execution_count": 14,
     "metadata": {},
     "output_type": "execute_result"
    }
   ],
   "source": [
    "X = np.array([1, 45, 85])\n",
    "sigmoid(X.dot(theta))"
   ]
  },
  {
   "cell_type": "markdown",
   "metadata": {},
   "source": [
    "# Regularized logistic regression <a class=\"anchor\" id=\"regularized\"></a>"
   ]
  },
  {
   "cell_type": "markdown",
   "metadata": {},
   "source": [
    "In this section we are going to face the problem where a dataset cannot be separated into a positive and negative examples by a simple straight-line."
   ]
  },
  {
   "cell_type": "markdown",
   "metadata": {},
   "source": [
    "### Problem definition <a class=\"anchor\" id=\"problem-definition2\"></a>"
   ]
  },
  {
   "cell_type": "markdown",
   "metadata": {},
   "source": [
    "We will implement regularized logistic regression to predict whether microchips from a fabrication plant passes quality assurance (QA). During QA, each microchip goes through various tests to ensure it is functioning correctly. Suppose you are the product manager of the factory and you have the test results for some microchips on two different tests. From these two tests, you would like to determine whether the microchips should be accepted or rejected. To help you make the decision, you have a dataset of test results on past microchips, from which you can build a logistic regression model."
   ]
  },
  {
   "cell_type": "code",
   "execution_count": 15,
   "metadata": {},
   "outputs": [],
   "source": [
    "micro = pd.read_csv('ex2data2.txt', \n",
    "                            header=None,\n",
    "                            names=['MicrochipTest1', 'MicrochipTest2', 'Results'])\n",
    "micro['QA'] = np.where(micro['Results']==0, 'Rejected', 'Accepted')"
   ]
  },
  {
   "cell_type": "code",
   "execution_count": 16,
   "metadata": {},
   "outputs": [],
   "source": [
    "#g = sns.lmplot(\"MicrochipTest1\", \"MicrochipTest2\", hue=\"QA\", \n",
    "               #data=micro, markers=[\"o\", \"x\"], fit_reg=False, height=12, scatter_kws={\"s\": 100})"
   ]
  },
  {
   "cell_type": "markdown",
   "metadata": {},
   "source": [
    "<img src=\"article/logistic-regression/img/5.png\" alt=\"\" style=\"width: 1000px;\"/>"
   ]
  },
  {
   "cell_type": "markdown",
   "metadata": {},
   "source": [
    "This dataset cannot be separated into a positive and negative examples by a straight-line through the plot. Therefore, a straight forward application of logistic regression will not perform well on this dataset since logistic regression will only be able to find a linear decision boundary."
   ]
  },
  {
   "cell_type": "markdown",
   "metadata": {},
   "source": [
    "### Feature mapping <a class=\"anchor\" id=\"feature-mapping\"></a>"
   ]
  },
  {
   "cell_type": "markdown",
   "metadata": {},
   "source": [
    "One way to fit the data better is to create more features from each data point. We will map the features into all polynomial terms of $x1$ and $x2$ up to the **sixth** power.\n",
    "Doing so we take care of the low bias of the model, but we will also introduce inevitably much more variance (if you are somewhat confused about bias-variance tradeoff, checkout my [article](http://petrupotrimba.altervista.org/image-post.php?id=2#img)). We will combat this second term using regularization."
   ]
  },
  {
   "cell_type": "markdown",
   "metadata": {},
   "source": [
    "Applying a regularization terms the cost function looks like this:\n",
    "$$J(\\theta) = \\frac{1}{m}\\sum_{i=1}^m(-y_i log(h_i(\\theta)) - (1-y_i)log(1-h_i(\\theta))) + \\frac{\\lambda}{2m}\\sum_{j=1}^n\\theta_j^2$$"
   ]
  },
  {
   "cell_type": "markdown",
   "metadata": {},
   "source": [
    "We need to keep in mind that the we don't have to regularize $\\theta_0$, which refers to the first feature we artificially set to 1. Hence the gradient of the cost will look like the following:"
   ]
  },
  {
   "cell_type": "markdown",
   "metadata": {},
   "source": [
    "$\\frac{\\partial J(\\theta)}{\\partial \\theta_0} = \\frac{1}{m} \\sum_{i=1}^{m} (h_\\theta(x^{(i)}) - y^{(i)}) x_j^{(i)} $ for $j=0$ "
   ]
  },
  {
   "cell_type": "markdown",
   "metadata": {},
   "source": [
    "$\\frac{\\partial J(\\theta)}{\\partial \\theta_j} = \\frac{1}{m} \\sum_{i=1}^{m} (h_\\theta(x^{(i)}) - y^{(i)}) x_j^{(i)} + \\frac{\\lambda}{m}\\sum_{j=1}^n\\theta_j$ for $j\\geq1$"
   ]
  },
  {
   "cell_type": "code",
   "execution_count": 17,
   "metadata": {},
   "outputs": [],
   "source": [
    "def mapFeature(X1, X2, degree):\n",
    "    '''\n",
    "    mapFeature(X1, X2, degree): maps the two input features to quadratic features.\n",
    "    \n",
    "    Returns a new feature array with more features, comprising of \n",
    "    X1, X2, X1.^2, X2.^2, X1*X2, X1*X2.^2, etc..\n",
    "\n",
    "    Inputs X1, X2 must be the same size\n",
    "    '''\n",
    "    X = np.ones(X1.shape[0])\n",
    "    for i in np.arange(degree+1):\n",
    "        for j in np.arange(i+1):\n",
    "            X = np.c_[X, np.power(X1, i-j) * np.power(X2, j)]\n",
    "    return X\n"
   ]
  },
  {
   "cell_type": "markdown",
   "metadata": {},
   "source": [
    "As a result of this mapping, our vector of two featues (the scores on two QA tests) has been transformed into a 28-dimensional vector. A logistic regression classifier trained on this higher-dimension feature vector will have a more complex decision boundary and will appear non-linear when drawn in out 2-dimensional plot."
   ]
  },
  {
   "cell_type": "markdown",
   "metadata": {},
   "source": [
    "### Functions <a class=\"anchor\" id=\"functions2\"></a>"
   ]
  },
  {
   "cell_type": "code",
   "execution_count": 18,
   "metadata": {},
   "outputs": [],
   "source": [
    "def costFunctionReg(theta, X, y, lamb):\n",
    "    h_theta = sigmoid(X.dot(theta))\n",
    "\n",
    "    cost = (np.dot(np.log(h_theta).T, -y) + np.dot(np.log(1-h_theta).T, -(1-y))) + lamb/2 * (theta[1:,]**2).sum()\n",
    "    \n",
    "    return np.asscalar(cost.squeeze())\n",
    "\n",
    "def computeGradientReg(theta, X, y, lamb):\n",
    "    theta = theta.reshape(-1, 1)\n",
    "    h_theta = sigmoid(X.dot(theta))\n",
    "    \n",
    "    gradient = np.dot(X.T, h_theta - y)\n",
    "    gradient[1:] += lamb * theta[1:,]\n",
    "    \n",
    "    return gradient.flatten()\n",
    "\n",
    "def plotDecisionBoundaryReg(X, theta, ax):\n",
    "    # generating an evenly spaced grid to evaluate the classifier's predictions\n",
    "    u = np.linspace(-1, 1.5, 50)\n",
    "    v = np.linspace(-1, 1.5, 50)\n",
    "    \n",
    "    z = np.zeros((len(u), len(v)));\n",
    "    # Evaluate z = theta*x over the grid\n",
    "    for i in np.arange(len(u)):\n",
    "        for j in np.arange(len(v)):\n",
    "            z[i,j]= np.dot(mapFeature(np.atleast_1d(u[i]).reshape(-1,1), np.atleast_1d(v[j]).reshape(-1,1), 6), theta)\n",
    "    \n",
    "    cs = ax.contour(u, v, z.T, levels=[0], colors='k', linewidths=6)\n",
    "    plt.clabel(cs,  \n",
    "               inline=1,\n",
    "               fmt='%1.2f',\n",
    "               fontsize=14)\n",
    "    plt.show()\n",
    "    return z"
   ]
  },
  {
   "cell_type": "markdown",
   "metadata": {},
   "source": [
    "### Running the model <a class=\"anchor\" id=\"running\"></a>"
   ]
  },
  {
   "cell_type": "code",
   "execution_count": 19,
   "metadata": {},
   "outputs": [],
   "source": [
    "data = np.loadtxt('ex2data2.txt', delimiter=',')\n",
    "X = data[:,0:2]\n",
    "y = data[:,2]\n",
    "y = y.reshape(y.shape[0], 1)\n",
    "\n",
    "# mapping features into all polynomial terms of X1 and X2 up to the sixth power\n",
    "X_expanded = mapFeature(X[:,0], X[:,1], 6)\n",
    "\n",
    "initial_theta = np.zeros((X_expanded.shape[1], 1))"
   ]
  },
  {
   "cell_type": "code",
   "execution_count": 20,
   "metadata": {
    "scrolled": false
   },
   "outputs": [],
   "source": [
    "from scipy import optimize\n",
    "lamda_values = [0, 1, 10, 100]\n",
    "#for lamda in lamda_values:\n",
    "    #theta = optimize.fmin_bfgs(f=costFunctionReg, x0=initial_theta, args=(X_expanded, y, lamda), fprime=computeGradientReg)\n",
    "    # plot\n",
    "    #g = sns.lmplot(\"MicrochipTest1\", \"MicrochipTest2\", hue=\"QA\", \n",
    "               #data=micro, markers=[\"o\", \"x\"], fit_reg=False, height=12, scatter_kws={\"s\": 100})\n",
    "    #ax = g.ax\n",
    "    #accuracy= np.where(y == predict(X_expanded, theta), 1, 0).sum()/y.shape[0] * 100\n",
    "    #ax.set_title('Lambda: {0}; Accuracy: {1}%'.format(lamda, round(accuracy, 2)))\n",
    "    #z = plotDecisionBoundaryReg(X, theta, ax)\n"
   ]
  },
  {
   "cell_type": "markdown",
   "metadata": {},
   "source": [
    "<img src=\"article/logistic-regression/img/6.png\" alt=\"\" style=\"width: 1000px;\"/>"
   ]
  },
  {
   "cell_type": "markdown",
   "metadata": {},
   "source": [
    "<img src=\"article/logistic-regression/img/7.png\" alt=\"\" style=\"width: 1000px;\"/>"
   ]
  },
  {
   "cell_type": "markdown",
   "metadata": {},
   "source": [
    "<img src=\"article/logistic-regression/img/8.png\" alt=\"\" style=\"width: 1000px;\"/>"
   ]
  },
  {
   "cell_type": "markdown",
   "metadata": {},
   "source": [
    "<img src=\"article/logistic-regression/img/9.png\" alt=\"\" style=\"width: 1000px;\"/>"
   ]
  },
  {
   "cell_type": "markdown",
   "metadata": {},
   "source": [
    "# Multiclass Classification: One-vs-all"
   ]
  },
  {
   "cell_type": "markdown",
   "metadata": {},
   "source": [
    "Now we will approach the classification of data when we have more than two categories. Instead of $y = \\{0,1\\}$ we will expand our definition so that $y = \\{0,1...n\\}$."
   ]
  },
  {
   "cell_type": "markdown",
   "metadata": {},
   "source": [
    "Since $y = \\{0,1...n\\}$, we divide our problem into $n+1$ (+1 because the index starts at 0) binary classification problems; in each one, we predict the probability that $y$ is a member of one of our classes."
   ]
  },
  {
   "cell_type": "markdown",
   "metadata": {},
   "source": [
    "$y\\in \\{0, 1...n\\}$ <br>\n",
    "$h_\\theta^{(0)}(x)$ = $P(y = 0 | x; \\theta)$ <br>\n",
    "$h_\\theta^{(1)}(x)$ = $P(y = 1 | x; \\theta)$ <br>\n",
    "$\\dots$ <br>\n",
    "$h_\\theta^{(n)}(x)$ = $P(y = n | x; \\theta)$ <br>\n",
    "prediction = $\\max_i(h_\\theta^{(i)}(x))$"
   ]
  },
  {
   "cell_type": "markdown",
   "metadata": {},
   "source": [
    "We are basically choosing one class and then lumping all the others into a single second class. We do this repeatedly, applying binary logistic regression to each case, and then use the hypothesis that returned the highest value as our prediction."
   ]
  },
  {
   "cell_type": "markdown",
   "metadata": {},
   "source": [
    "<img src=\"img/onevsall.png\" width=\"80%\" height=\"auto\">"
   ]
  },
  {
   "cell_type": "markdown",
   "metadata": {},
   "source": [
    "To summarize:"
   ]
  },
  {
   "cell_type": "markdown",
   "metadata": {},
   "source": [
    "Train a logistic regression classifier $h_\\theta(x)$ for each class￼ to predict the probability that ￼$￼y = i$￼."
   ]
  },
  {
   "cell_type": "markdown",
   "metadata": {},
   "source": [
    "To make a prediction on a new $x$, pick the class ￼that maximizes $h_\\theta(x)$."
   ]
  },
  {
   "cell_type": "code",
   "execution_count": 21,
   "metadata": {},
   "outputs": [],
   "source": [
    "import scipy.io\n",
    "from scipy import optimize\n",
    "import random\n",
    "from sklearn.model_selection import train_test_split\n",
    "\n",
    "mat = scipy.io.loadmat('ex3data1.mat')\n",
    "X = mat['X']\n",
    "y = mat['y']\n",
    "X_train, X_test, y_train, y_test = train_test_split(X, y, test_size=0.2)"
   ]
  },
  {
   "cell_type": "markdown",
   "metadata": {},
   "source": [
    "### Functions <a class=\"anchor\" id=\"functions3\"></a>"
   ]
  },
  {
   "cell_type": "code",
   "execution_count": 22,
   "metadata": {},
   "outputs": [],
   "source": [
    "def displayData(X):\n",
    "    fig = plt.figure(figsize=(14,14))\n",
    "    plt.title('100 Random Images from the data set')\n",
    "    indexes = random.sample(range(1, X.shape[0]), 100)\n",
    "    images = X[indexes,:]\n",
    "    for i in np.arange(10):\n",
    "        for j in np.arange(10):\n",
    "            ax = fig.add_subplot(10, 10, (10*j+i)+1)\n",
    "            ax.matshow(images[10*j+i,:].reshape(20,20), cmap = 'gray')\n",
    "            plt.xticks(np.array([]))\n",
    "            plt.yticks(np.array([]))\n",
    "    plt.show()\n",
    "    \n",
    "def displaySigleDigit(X):\n",
    "    fig = plt.figure(figsize=(5, 5))\n",
    "    ax = fig.add_subplot(1, 1, 1)\n",
    "    ax.matshow(X.reshape(20,20), cmap = 'gray')\n",
    "    plt.xticks(np.array([]))\n",
    "    plt.yticks(np.array([]))\n",
    "    plt.title('1 Random Digit from the data set')\n",
    "    plt.show()\n",
    "    \n",
    "def oneVsAll(X, y, num_labels, lamda):\n",
    "    m = X.shape[1]\n",
    "    all_theta = np.zeros((m + 1, num_labels)) #(401, 10) +1 is for interceptor therm\n",
    "    y_copy = y\n",
    "    X = np.c_[np.ones((X.shape[0], 1)), X]\n",
    "    for k in np.arange(num_labels):\n",
    "        initial_theta = np.zeros((1, m + 1)).reshape(-1, 1) # +1 is for interceptor therm\n",
    "        y_copy = np.where(y != k + 1, 0, k + 1)\n",
    "        #theta = optimize.fmin_bfgs(f=costFunctionReg, x0=initial_theta.squeeze(), args=(X, y_copy, lamda), fprime=computeGradientReg)\n",
    "        theta = optimize.minimize(fun=costFunctionReg, x0=initial_theta.squeeze(), args=(X, y_copy, lamda),\n",
    "                                  method='TNC', jac=computeGradientReg, options=dict(disp=True, maxiter=100000))\n",
    "        all_theta[:, k] = theta.x\n",
    "    return all_theta\n",
    "    \n",
    "\n",
    "def predictOneVsAll(theta, X):\n",
    "    X = np.c_[np.ones((X.shape[0], 1)), X]\n",
    "    return sigmoid(X.dot(theta))"
   ]
  },
  {
   "cell_type": "code",
   "execution_count": 23,
   "metadata": {},
   "outputs": [
    {
     "data": {
      "image/png": "[encoded data removed]",
      "text/plain": [
       "<Figure size 1008x1008 with 101 Axes>"
      ]
     },
     "metadata": {
      "needs_background": "light"
     },
     "output_type": "display_data"
    }
   ],
   "source": [
    "displayData(X_train)"
   ]
  },
  {
   "cell_type": "markdown",
   "metadata": {},
   "source": [
    "### Train the model choosing the best lambda value <a class=\"anchor\" id=\"best-lambda\"></a>"
   ]
  },
  {
   "cell_type": "code",
   "execution_count": 24,
   "metadata": {},
   "outputs": [
    {
     "name": "stderr",
     "output_type": "stream",
     "text": [
      "/home/pptr/.conda/envs/fastai/lib/python3.6/site-packages/ipykernel_launcher.py:4: RuntimeWarning: divide by zero encountered in log\n",
      "  after removing the cwd from sys.path.\n"
     ]
    },
    {
     "name": "stdout",
     "output_type": "stream",
     "text": [
      "Accuracy:  82.1\n"
     ]
    }
   ],
   "source": [
    "num_labels = 10\n",
    "accuracy = np.array([])\n",
    "\n",
    "for lamda in [0, 0.1, 10, 100]:\n",
    "    all_theta = oneVsAll(X_train, y_train, num_labels, lamda)\n",
    "    prob = predictOneVsAll(all_theta, X_test)\n",
    "    pred = np.argmax(prob, axis=1) + 1\n",
    "    p = np.where(pred.reshape(-1, 1) == y_test, 1, 0)\n",
    "    accuracy = np.append(accuracy, (p.sum()/y_test.shape[0]) * 100)\n",
    "\n",
    "print(\"Accuracy: \", accuracy.max())"
   ]
  },
  {
   "cell_type": "markdown",
   "metadata": {},
   "source": [
    "### Compare our logistic regression to sklearn logistic regression <a class=\"anchor\" id=\"compare-sklearn\"></a>"
   ]
  },
  {
   "cell_type": "code",
   "execution_count": 25,
   "metadata": {},
   "outputs": [],
   "source": [
    "import scipy.io\n",
    "from scipy import optimize\n",
    "import random\n",
    "from sklearn.linear_model import LogisticRegression\n",
    "from sklearn.model_selection import train_test_split\n",
    "\n",
    "mat = scipy.io.loadmat('ex3data1.mat')\n",
    "X = mat['X']\n",
    "y = mat['y']\n",
    "X_train, X_test, y_train, y_test = train_test_split(X, y, test_size=0.2)"
   ]
  },
  {
   "cell_type": "code",
   "execution_count": 26,
   "metadata": {},
   "outputs": [
    {
     "name": "stderr",
     "output_type": "stream",
     "text": [
      "/home/pptr/.conda/envs/fastai/lib/python3.6/site-packages/sklearn/linear_model/logistic.py:758: ConvergenceWarning: lbfgs failed to converge. Increase the number of iterations.\n",
      "  \"of iterations.\", ConvergenceWarning)\n"
     ]
    }
   ],
   "source": [
    "clf = LogisticRegression(random_state=0, solver='lbfgs', multi_class='multinomial').fit(X_train, y_train.ravel())"
   ]
  },
  {
   "cell_type": "code",
   "execution_count": 27,
   "metadata": {},
   "outputs": [
    {
     "name": "stdout",
     "output_type": "stream",
     "text": [
      "Accuracy:  91.9\n"
     ]
    }
   ],
   "source": [
    "print(\"Accuracy: \", clf.score(X_test, y_test) * 100)"
   ]
  },
  {
   "cell_type": "markdown",
   "metadata": {},
   "source": [
    "The value to predict is:"
   ]
  },
  {
   "cell_type": "code",
   "execution_count": 28,
   "metadata": {},
   "outputs": [
    {
     "data": {
      "text/plain": [
       "5"
      ]
     },
     "execution_count": 28,
     "metadata": {},
     "output_type": "execute_result"
    }
   ],
   "source": [
    "y_test[0][0]"
   ]
  },
  {
   "cell_type": "code",
   "execution_count": 29,
   "metadata": {},
   "outputs": [
    {
     "data": {
      "image/png": "[encoded data removed]",
      "text/plain": [
       "<Figure size 360x360 with 1 Axes>"
      ]
     },
     "metadata": {},
     "output_type": "display_data"
    }
   ],
   "source": [
    "displaySigleDigit(X_test[0, :].reshape(-1, 1).T)"
   ]
  },
  {
   "cell_type": "markdown",
   "metadata": {},
   "source": [
    "The predicted value is:"
   ]
  },
  {
   "cell_type": "code",
   "execution_count": 30,
   "metadata": {},
   "outputs": [
    {
     "data": {
      "text/plain": [
       "5"
      ]
     },
     "execution_count": 30,
     "metadata": {},
     "output_type": "execute_result"
    }
   ],
   "source": [
    "clf.predict(X_test[0, :].reshape(-1, 1).T)[0]"
   ]
  },
  {
   "cell_type": "markdown",
   "metadata": {},
   "source": [
    "### Compare logistic regression to SVM <a class=\"anchor\" id=\"compare-svm\"></a>"
   ]
  },
  {
   "cell_type": "code",
   "execution_count": 31,
   "metadata": {},
   "outputs": [],
   "source": [
    "from sklearn import svm\n",
    "\n",
    "mat = scipy.io.loadmat('ex3data1.mat')\n",
    "X = mat['X']\n",
    "y = mat['y']\n",
    "X_train, X_test, y_train, y_test = train_test_split(X, y, test_size=0.2)"
   ]
  },
  {
   "cell_type": "code",
   "execution_count": 32,
   "metadata": {},
   "outputs": [
    {
     "name": "stderr",
     "output_type": "stream",
     "text": [
      "/home/pptr/.conda/envs/fastai/lib/python3.6/site-packages/sklearn/svm/base.py:196: FutureWarning: The default value of gamma will change from 'auto' to 'scale' in version 0.22 to account better for unscaled features. Set gamma explicitly to 'auto' or 'scale' to avoid this warning.\n",
      "  \"avoid this warning.\", FutureWarning)\n"
     ]
    },
    {
     "name": "stdout",
     "output_type": "stream",
     "text": [
      "Accuracy:  89.1\n"
     ]
    }
   ],
   "source": [
    "clf = svm.SVC(kernel='rbf', C=1.0)\n",
    "clf.fit(X_train, y_train.ravel())\n",
    "#accuracy = (clf.predict(X_test).reshape(-1,1) == y_test.reshape(-1,1)).sum()/y_test.shape[0]\n",
    "print(\"Accuracy: \", clf.score(X_test, y_test) * 100)"
   ]
  }
 ],
 "metadata": {
  "kernelspec": {
   "display_name": "Python 3",
   "language": "python",
   "name": "python3"
  },
  "language_info": {
   "codemirror_mode": {
    "name": "ipython",
    "version": 3
   },
   "file_extension": ".py",
   "mimetype": "text/x-python",
   "name": "python",
   "nbconvert_exporter": "python",
   "pygments_lexer": "ipython3",
   "version": "3.6.5"
  }
 },
 "nbformat": 4,
 "nbformat_minor": 2
}
