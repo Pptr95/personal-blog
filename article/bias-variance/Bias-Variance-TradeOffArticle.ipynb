{
 "cells": [
  {
   "cell_type": "markdown",
   "metadata": {},
   "source": [
    "# Bias - Variance tradeoff and Polynomial regression"
   ]
  },
  {
   "cell_type": "markdown",
   "metadata": {},
   "source": [
    "The objective of the following article is to explore the relationship between two competing properties of a statistical learning model: **bias** and **variace**."
   ]
  },
  {
   "cell_type": "markdown",
   "metadata": {},
   "source": [
    "An important concept in machine learning is the **bias-variance** tradeoff. Model with high bias are not complex enough for the data and then to underfit, whilst models with high variance overfit to the training data. "
   ]
  },
  {
   "cell_type": "markdown",
   "metadata": {},
   "source": [
    "The *variance* consists in the amount by which a model changes when we train it on a different data set. It is expected that the fitted method varies according to the data it is fed with, nevertheless the change shouldn't be significant. If this is not the case the model is generally too flexible and is said to have *high variance*."
   ]
  },
  {
   "cell_type": "markdown",
   "metadata": {},
   "source": [
    "On the other hand, the *bias* is the error introduced when we try to model a real world problem, which may be very complicated, with a too simple approximation. \n",
    "\n",
    "So the **goal** is to create a model which can find a **tradeoff** between *bias* and *variace*.\n",
    "\n",
    "To better understand the problem we will do an example. In this example we try to predict the water flowing out of a dam using the change in water level of an external reservoir."
   ]
  },
  {
   "cell_type": "markdown",
   "metadata": {},
   "source": [
    "As a general rule, the more we increase the flexibity of a method, the more the variance increases and the bias decreases. The rate at which the two properties change is not the same though and it is crucial to study their relative fluctuation to find the sweet spot minimizing the total model error. "
   ]
  },
  {
   "cell_type": "markdown",
   "metadata": {},
   "source": [
    "### The water and the dam"
   ]
  },
  {
   "cell_type": "markdown",
   "metadata": {},
   "source": [
    "As announced above we will build a predictive model to forecast the amount of water getting out of a dam. We will do this playing around with Linear Regression (checkout my [article](http://petrupotrimba.altervista.org/image-post.php?id=1#img) if you are not familiar with Linear Regression) at first drawing a straight line and later on extending the feature space with the addition of p-th degree polynomials of X."
   ]
  },
  {
   "cell_type": "markdown",
   "metadata": {},
   "source": [
    "First recall the regularized cost function and its gradient for Linear Regression:"
   ]
  },
  {
   "cell_type": "markdown",
   "metadata": {},
   "source": [
    "$J(\\theta) = \\frac{1}{2m} \\sum_{i=1}^{m} (h_\\theta(x^{(i)}) - y^{(i)})^2 + \\frac{\\lambda}{2m}\\sum_{j=1}^n\\theta_j^2$"
   ]
  },
  {
   "cell_type": "markdown",
   "metadata": {},
   "source": [
    "$\\frac{\\partial J(\\theta)}{\\partial \\theta_0} = \\frac{1}{m} \\sum_{i=1}^{m} (h_\\theta(x^{(i)}) - y^{(i)}) x_j^{(i)} $ for $j=0$"
   ]
  },
  {
   "cell_type": "markdown",
   "metadata": {},
   "source": [
    "$\\frac{\\partial J(\\theta)}{\\partial \\theta_j} = \\frac{1}{m} \\sum_{i=1}^{m} (h_\\theta(x^{(i)}) - y^{(i)}) x_j^{(i)} + \\frac{\\lambda}{m}\\sum_{j=1}^n\\theta_j$ for $j\\geq1$"
   ]
  },
  {
   "cell_type": "code",
   "execution_count": 2,
   "metadata": {},
   "outputs": [
    {
     "data": {
      "text/html": [
       "<style>.rendered_html { font-size: 17px; }</style>"
      ],
      "text/plain": [
       "<IPython.core.display.HTML object>"
      ]
     },
     "metadata": {},
     "output_type": "display_data"
    }
   ],
   "source": [
    "import numpy as np\n",
    "import pandas as pd\n",
    "import matplotlib.pyplot as plt\n",
    "import scipy.io\n",
    "from scipy import optimize\n",
    "from IPython.core.display import display, HTML\n",
    "display(HTML(\"<style>.rendered_html { font-size: 17px; }</style>\"))"
   ]
  },
  {
   "cell_type": "code",
   "execution_count": 3,
   "metadata": {},
   "outputs": [],
   "source": [
    "mat = scipy.io.loadmat('ex5data1.mat')\n",
    "X = mat['X']\n",
    "y = mat['y']\n",
    "X_val = mat['Xval']\n",
    "y_val = mat['yval']\n",
    "X_test = mat['Xtest']\n",
    "y_test = mat['ytest']"
   ]
  },
  {
   "cell_type": "code",
   "execution_count": 4,
   "metadata": {},
   "outputs": [],
   "source": [
    "#fig = plt.figure()\n",
    "#ax = fig.add_subplot(1, 1, 1) \n",
    "#ax.plot(X, y, 'x', color='r')\n",
    "#plt.xlabel('Change in water level (x)')\n",
    "#plt.ylabel('Water flowing out of the dam (y)')\n",
    "#plt.show()"
   ]
  },
  {
   "cell_type": "markdown",
   "metadata": {},
   "source": [
    "<img src=\"article/bias-variance/img/1.png\" alt=\"\" style=\"width: 1000px;\"/>"
   ]
  },
  {
   "cell_type": "markdown",
   "metadata": {},
   "source": [
    "It can se seen that the relation between X and y is not linear. Nevertheless, for the purpose of experimenting with ML we will fit a linear model and check the results we get."
   ]
  },
  {
   "cell_type": "markdown",
   "metadata": {},
   "source": [
    "Below there are some useful functions I created that we will use throughout this article."
   ]
  },
  {
   "cell_type": "markdown",
   "metadata": {},
   "source": [
    "### Functions"
   ]
  },
  {
   "cell_type": "code",
   "execution_count": 4,
   "metadata": {},
   "outputs": [],
   "source": [
    "def costFunctionReg(theta, X, y, lamda):\n",
    "    m = y.shape[0]\n",
    "    h_y = X.dot(theta) - y\n",
    "    cost = (1/(2*m)) * (sum(h_y**2)) + (lamda/(2*m))*(sum(theta[1:]**2))\n",
    "    return cost\n",
    "\n",
    "def computeGradientReg(theta, X, y, lamda):\n",
    "    theta = theta.reshape(-1, 1)\n",
    "    m = y.shape[0]\n",
    "    h_y = X.dot(theta) - y\n",
    "    grad = 1/m * (h_y).T.dot(X)\n",
    "    grad[1:] = grad + lamda/m*theta[1:].T\n",
    "    return grad\n",
    "\n",
    "def gradientDescent(X, y, theta, alpha, num_iters, lamda):\n",
    "    m = y.shape[0]\n",
    "    J_history = np.zeros((num_iters, 1))\n",
    "    for i in range(num_iters):\n",
    "        h_y = X.dot(theta) - y\n",
    "        gradient = (alpha/m)*((X.T).dot(h_y))\n",
    "        gradient[1:] = gradient[1:] + (lamda/m*theta[1:])\n",
    "        theta = theta - gradient\n",
    "        J_history[i] = costFunctionReg(theta, X, y, lamda)\n",
    "       \n",
    "    return theta, J_history\n",
    "\n",
    "def learningCurve(X, y, Xval, yval, lamda):\n",
    "    m =  X.shape[0]\n",
    "    initial_theta = np.ones((X.shape[1], 1))\n",
    "    error_train = np.zeros((m, 1))\n",
    "    error_val = np.zeros((m, 1))\n",
    "    for i in range(m):\n",
    "        theta = gradientDescent(X[0:i+1], y[0:i+1], initial_theta, 0.001, 3000, lamda)[0]\n",
    "        error_train[i] = costFunctionReg(theta, X[0:i+1], y[0:i+1], lamda)\n",
    "        error_val[i] = costFunctionReg(theta, Xval, yval, lamda)\n",
    "    return error_train, error_val\n",
    "\n",
    "def polyFeatures(X, p):\n",
    "    for i in np.arange(1, p + 1):\n",
    "        X = np.c_[X, X[:, 0]**i]\n",
    "    return X\n",
    "\n",
    "def featureNormalize(X):\n",
    "    average = np.mean(X, axis=0)\n",
    "    sigma = np.std(X, axis=0)\n",
    "    X_norm = (X - average)/sigma\n",
    "    return X_norm, average, sigma\n",
    "\n",
    "def plotFit(min_X, max_X, mu, sigma, p):\n",
    "    X = np.arange(min_X - 15, max_X + 15, 0.05).reshape(-1,1)\n",
    "    X_poly = polyFeatures(X, p)\n",
    "    X_poly = (X_poly - mu) / sigma\n",
    "    X_poly = np.c_[np.ones(X_poly.shape[0]), X_poly]\n",
    "    return X, X_poly\n",
    "\n",
    "def validationCurve(X, y, Xval, yval, lambda_vec):\n",
    "    m = lambda_vec.size\n",
    "    error_train = np.zeros((m, 1))\n",
    "    error_val = np.zeros((m, 1))\n",
    "    initial_theta = np.zeros((X.shape[1], 1))\n",
    "    alpha = 0.001\n",
    "    num_iters = 3000\n",
    "    for i, lamda in enumerate(lambda_vec):\n",
    "        theta = gradientDescent(X, y, initial_theta, alpha, num_iters, lamda)[0]\n",
    "        error_train[i] = costFunctionReg(theta, X, y, 0)\n",
    "        error_val[i] = costFunctionReg(theta, Xval, yval, 0)\n",
    "    best_lamda = lambda_vec[error_val.argmin()]\n",
    "    return error_train, error_val, best_lamda"
   ]
  },
  {
   "cell_type": "markdown",
   "metadata": {},
   "source": [
    "## High Bias model"
   ]
  },
  {
   "cell_type": "markdown",
   "metadata": {},
   "source": [
    "Now we are ready to run Linear Regression. To minimaze Linear Regression cost function we use *gradient descent* algorithm which we have just implemented above. We set our initial parameters `initial_theta` to one and the regualarization parameter `lamda` to zero since in this section we do not want to regularize our model."
   ]
  },
  {
   "cell_type": "code",
   "execution_count": 5,
   "metadata": {},
   "outputs": [
    {
     "name": "stdout",
     "output_type": "stream",
     "text": [
      "Theta found by gradient descent: intercept=[12.42957875], slope=[0.36383098]\n"
     ]
    }
   ],
   "source": [
    "# add bias term\n",
    "X = np.c_[np.ones(X.shape[0]), X]\n",
    "\n",
    "# regularization parameter\n",
    "lamda = 0\n",
    "\n",
    "initial_theta = np.ones((X.shape[1], 1))\n",
    "num_iters = 3000\n",
    "alpha = 0.001\n",
    "theta, J_history = gradientDescent(X, y, initial_theta, alpha, num_iters, lamda)\n",
    "print(\"Theta found by gradient descent: intercept={0}, slope={1}\".format(theta[0],theta[1]))"
   ]
  },
  {
   "cell_type": "markdown",
   "metadata": {},
   "source": [
    "To check that *gradient descent* have worked properly, we plot the cost value of the cost function to make sure it non increase with each iteration of gradient descent."
   ]
  },
  {
   "cell_type": "code",
   "execution_count": null,
   "metadata": {},
   "outputs": [],
   "source": [
    "#fig = plt.figure()\n",
    "#ax = fig.add_subplot(1, 1, 1)\n",
    "#ax.plot(range(num_iters), J_history)\n",
    "#plt.ylabel('Cost Value')\n",
    "#plt.xlabel('Iteration of Gradient Descent')\n",
    "#plt.show()"
   ]
  },
  {
   "cell_type": "markdown",
   "metadata": {},
   "source": [
    "<img src=\"article/bias-variance/img/2.png\" alt=\"\" style=\"width: 1000px;\"/>"
   ]
  },
  {
   "cell_type": "markdown",
   "metadata": {},
   "source": [
    "The cost is decreasing with each iteration, good!"
   ]
  },
  {
   "cell_type": "markdown",
   "metadata": {},
   "source": [
    "Now is the moment to plot the fit line."
   ]
  },
  {
   "cell_type": "code",
   "execution_count": 52,
   "metadata": {},
   "outputs": [],
   "source": [
    "#fig = plt.figure()\n",
    "#ax = fig.add_subplot(1, 1, 1) \n",
    "#ax.plot(X[:, 1], y[:, 0], 'x', label='Training Data')\n",
    "#ax.plot(X[:,1], np.matmul(X, theta), linestyle='-', label='Linear Regression')\n",
    "# set the legend for the labels: 'Training Data' and 'Linear Regression'\n",
    "#legend = ax.legend(loc='upper center', shadow=True)\n",
    "#plt.ylabel('Change in water level (x)')\n",
    "#plt.xlabel('Water flowing out of the dam (y)')#plt.show()"
   ]
  },
  {
   "cell_type": "markdown",
   "metadata": {},
   "source": [
    "<img src=\"article/bias-variance/img/3.png\" alt=\"\" style=\"width: 1000px;\"/>"
   ]
  },
  {
   "cell_type": "markdown",
   "metadata": {},
   "source": [
    "It is evident that a straight line does not model the true relationship between X and y. The method is not flexible enough, resulting in **high bias** and **low variance**. The finding is proved by the below learning curve as well."
   ]
  },
  {
   "cell_type": "markdown",
   "metadata": {},
   "source": [
    "### Learning curve"
   ]
  },
  {
   "cell_type": "markdown",
   "metadata": {},
   "source": [
    "A **learning curve** is a useful method that shows the error on the training set v.s. validation set for an increasing number of data points ingested in the learning process. Let's call `learningCurve` function and plot the result."
   ]
  },
  {
   "cell_type": "code",
   "execution_count": 53,
   "metadata": {},
   "outputs": [],
   "source": [
    "# add bias term validation set\n",
    "X_val = np.c_[np.ones((X_val.shape[0], 1)), X_val]"
   ]
  },
  {
   "cell_type": "code",
   "execution_count": 54,
   "metadata": {},
   "outputs": [],
   "source": [
    "lamda = 0\n",
    "error_train, error_val = learningCurve(X, y, X_val, y_val, lamda)"
   ]
  },
  {
   "cell_type": "code",
   "execution_count": 19,
   "metadata": {},
   "outputs": [],
   "source": [
    "#fig = plt.figure()\n",
    "#ax = fig.add_subplot(1, 1, 1)\n",
    "#ax.plot(range(X.shape[0]), error_train, label = 'Training set error')\n",
    "#ax.plot(range(X.shape[0]), error_val, label = 'Validation set error')\n",
    "#legend = ax.legend(loc='upper center', shadow=True)\n",
    "#plt.ylabel('Error')\n",
    "#plt.xlabel('Training samples')\n",
    "#plt.show()"
   ]
  },
  {
   "cell_type": "markdown",
   "metadata": {},
   "source": [
    "<img src=\"article/bias-variance/img/4.png\" alt=\"\" style=\"width: 1000px;\"/>"
   ]
  },
  {
   "cell_type": "markdown",
   "metadata": {},
   "source": [
    "It can be observed that *both* the train error and cross validation error are high when the number of training examples is increased. As we already discovered before looking at the line that fits the training set, this reflects a **high bias** problem in the model, namely the linear regression model is too simple and is unable to fit our dataset well. To fit a better model we will implement **polynomial regression**."
   ]
  },
  {
   "cell_type": "markdown",
   "metadata": {},
   "source": [
    "# Polynomial regression"
   ]
  },
  {
   "cell_type": "markdown",
   "metadata": {},
   "source": [
    "The problem with our linear model was that it was too simple for the data and resulted **underfitting** (high bias). In this part, we will address this problem by adding more features and our hypothesis will have the following form:"
   ]
  },
  {
   "cell_type": "markdown",
   "metadata": {},
   "source": [
    "$h_\\theta(x) = \\theta_0 + \\theta_1 * (waterLevel) + \\theta_2 * (waterLevel)^2 + \\dots + \\theta_p * (waterLevel)^p =\\theta_0 + \\theta_1x_1 + \\theta_2x_2 + \\dots + \\theta_px_p$ "
   ]
  },
  {
   "cell_type": "markdown",
   "metadata": {},
   "source": [
    "Notice that, by doing that mapping, we obtain a linear regression model where the features are the various powers of the original value (waterLevel)."
   ]
  },
  {
   "cell_type": "markdown",
   "metadata": {},
   "source": [
    "To achieve that, I implemented the function `polyFeatures` which takes in input the dataset we want to add polynomial features and the max polynomial degree.\n",
    "It turns out that if we run the training directly using the new dataset we obtained, will not work well as the features would be badly scaled. Therefore is necessary to use feature normalization. To do that, I implemented the function `featureNormalize`. This function returns the normalized dataset, the *mean* and the *standard deviation* (represented by `sigma` variable in the code). We need the mean and standard deviation for normalize subsequently the validation and test set."
   ]
  },
  {
   "cell_type": "markdown",
   "metadata": {},
   "source": [
    "## High Variance model"
   ]
  },
  {
   "cell_type": "code",
   "execution_count": 20,
   "metadata": {},
   "outputs": [],
   "source": [
    "mat = scipy.io.loadmat('ex5data1.mat')\n",
    "X = mat['X']\n",
    "y = mat['y']\n",
    "X_val = mat['Xval']\n",
    "y_val = mat['yval']\n",
    "X_test = mat['Xtest']\n",
    "y_test = mat['ytest']"
   ]
  },
  {
   "cell_type": "code",
   "execution_count": 21,
   "metadata": {},
   "outputs": [],
   "source": [
    "p = 10\n",
    "\n",
    "X_poly = polyFeatures(X, p)\n",
    "# it is important to normalize and scale our dataset before applying any ML on it\n",
    "X_poly, mean, sigma = featureNormalize(X_poly)\n",
    "# add biad term to our new dataset\n",
    "X_poly = np.c_[np.ones((X_poly.shape[0], 1)), X_poly]\n",
    "\n",
    "X_poly_val = polyFeatures(X_val, p)\n",
    "X_poly_val = (X_poly_val - mean) / sigma\n",
    "X_poly_val = np.c_[np.ones((X_poly_val.shape[0], 1)), X_poly_val]\n",
    "\n",
    "X_poly_test = polyFeatures(X_test, p)\n",
    "X_poly_test = (X_poly_test - mean) / sigma\n",
    "X_poly_test = np.c_[np.ones((X_poly_test.shape[0], 1)), X_poly_test]"
   ]
  },
  {
   "cell_type": "markdown",
   "metadata": {},
   "source": [
    "Normalized our datasets, we can run Linear Regression on the polynomial dataset and see how good our line fits the model."
   ]
  },
  {
   "cell_type": "code",
   "execution_count": 22,
   "metadata": {},
   "outputs": [],
   "source": [
    "lamda = 0\n",
    "alpha = 0.001\n",
    "num_iters = 3000\n",
    "initial_theta = np.ones((X_poly.shape[1], 1))\n",
    "theta_fit_poly, J_history_poly = gradientDescent(X_poly, y, initial_theta, alpha, num_iters, lamda)"
   ]
  },
  {
   "cell_type": "code",
   "execution_count": 24,
   "metadata": {},
   "outputs": [],
   "source": [
    "#fig = plt.figure()\n",
    "#ax = fig.add_subplot(1, 1, 1) \n",
    "#ax.plot(X, y, 'x', color='r')\n",
    "#X_fit, X_poly_fit = plotFit(min(X), max(X), mean, sigma, p)\n",
    "#ax.plot(X_fit, np.dot(X_poly_fit, theta_fit_poly), '--', color='blue')\n",
    "#plt.xlabel('Change in water level (x)')\n",
    "#plt.ylabel('Water flowing out of the dam (y)')\n",
    "#plt.show()"
   ]
  },
  {
   "cell_type": "markdown",
   "metadata": {},
   "source": [
    "<img src=\"article/bias-variance/img/5.png\" alt=\"\" style=\"width: 1000px;\"/>"
   ]
  },
  {
   "cell_type": "markdown",
   "metadata": {},
   "source": [
    "The problem with our linear model was that it was too simple for the data and resulted in underfitting (high bias).\n",
    "The polynomial fit, on the contrary, is able to follow the datapoints very well - thus, obtaining a low training error. However, the polynomial method is very complex and even drops off at the extremes. This is an indicator that the polynomial regression model is **overfitting** the training data and will not generalize well."
   ]
  },
  {
   "cell_type": "markdown",
   "metadata": {},
   "source": [
    "To better understand the problems with the unregularized model ($\\lambda = 0$), you can see that the learning curve plot blow shows the same effect where the training error is low, but the validation error is high. There is a gap between the training and cross validation errors, indicating a **high variance** problem"
   ]
  },
  {
   "cell_type": "code",
   "execution_count": 25,
   "metadata": {},
   "outputs": [],
   "source": [
    "lamda = 0\n",
    "error_train_poly, error_val_poly = learningCurve(X_poly, y, X_poly_val, y_val, lamda)"
   ]
  },
  {
   "cell_type": "code",
   "execution_count": 27,
   "metadata": {},
   "outputs": [],
   "source": [
    "#fig = plt.figure()\n",
    "#ax = fig.add_subplot(1, 1, 1)\n",
    "#ax.plot(range(X_poly.shape[0]), error_train_poly, label = 'Training set error')\n",
    "#ax.plot(range(X_poly.shape[0]), error_val_poly, label = 'Validation set error')\n",
    "#legend = ax.legend(loc='upper center', shadow=True)\n",
    "#plt.ylabel('Error')\n",
    "#plt.xlabel('Training samples')\n",
    "#plt.show()"
   ]
  },
  {
   "cell_type": "markdown",
   "metadata": {},
   "source": [
    "<img src=\"article/bias-variance/img/6.png\" alt=\"\" style=\"width: 1000px;\"/>"
   ]
  },
  {
   "cell_type": "markdown",
   "metadata": {},
   "source": [
    "To remedy the situation we have to reduce the variance. **Regularization** come to the rescue; specifically now we are going to apply the *validation set approach* to select the *best* value of lambda that minimize the validation set error. <br>\n",
    "Minimizing that validation set error means we created a model with no bias and no variance, which is our goal!"
   ]
  },
  {
   "cell_type": "markdown",
   "metadata": {},
   "source": [
    "### Regularize the model selecting $\\lambda$ using a cross validation set"
   ]
  },
  {
   "cell_type": "markdown",
   "metadata": {},
   "source": [
    "$\\lambda$ is a regularization parameter which controls the degree of regularization (thus, helps preventing overfitting). The regularization term puts a penalty on the overall cost $J$. As the magnitudes of the model parameters $\\theta_j$ increase, the penalty increases as well.\n",
    "\n",
    "The regularization parameter $\\lambda$ can significantly affect the results of regularized polynomial regression on the training and cross validation set. In particular, a model without regularization ($\\lambda = 0$) fits the trainig set well, but does not generalize. Conversely, a model with too much regularization ($\\lambda = 100$) does not fit the training set and testing set well. A good choice of $\\lambda$ (e.g., $\\lambda = 1$) can provide a good fit to the data.\n",
    "So we have to implememt an automated method to select the $\\lambda$ parameter. Concretely, we will use a cross validation set to evaluate how good each $\\lambda$ value is."
   ]
  },
  {
   "cell_type": "markdown",
   "metadata": {},
   "source": [
    "After selecting the best $\\lambda$ value using the cross validation set, we can then evaluate the model on the test set to estimate how well the model will perform on actual unseen data.\n",
    "To achieve that, I implemented `validationCurve` which does this job. This function takes in input a list of values to try (*lambda_vec*) along with the training and validation set."
   ]
  },
  {
   "cell_type": "code",
   "execution_count": 28,
   "metadata": {},
   "outputs": [],
   "source": [
    "lambda_vec = np.array([0, 0.001, 0.003, 0.01, 0.03, 0.1, 0.3, 1, 3, 10])\n",
    "train_error_lamb, validation_error_lamb, best_lamda = validationCurve(X_poly, y, X_poly_val, y_val, lambda_vec)"
   ]
  },
  {
   "cell_type": "code",
   "execution_count": 30,
   "metadata": {},
   "outputs": [],
   "source": [
    "#fig = plt.figure()\n",
    "#ax = fig.add_subplot(1, 1, 1)\n",
    "#ax.plot(np.arange(lambda_vec.min(), lambda_vec.max()), train_error_lamb, label = 'Train')\n",
    "#ax.plot(np.arange(lambda_vec.min(), lambda_vec.max()), validation_error_lamb,  label= 'Validation')#ax.annotate(\"Best Lambda: %.3f\" % best_lamda, xy=(2, 6), xytext=(0.001, 19),\n",
    "#arrowprops=dict(facecolor='black', shrink=0.005))\n",
    "#plt.ylabel('Error')\n",
    "#plt.xlabel('Lamda')\n",
    "#plt.xlim(0,9)\n",
    "#legend = ax.legend(loc='upper center', shadow=True)\n",
    "#plt.show()"
   ]
  },
  {
   "cell_type": "markdown",
   "metadata": {},
   "source": [
    "<img src=\"article/bias-variance/img/7.png\" alt=\"\" style=\"width: 1000px;\"/>"
   ]
  },
  {
   "cell_type": "markdown",
   "metadata": {},
   "source": [
    "The best $\\lambda$ to choose is that value of $\\lambda$ that causes the least error on the validation set. In this case is the third value (in the plot is shown that is the second value, but it is actually the third since the index starts from zero) from our *lambda_vec*, which is 0.003."
   ]
  },
  {
   "cell_type": "code",
   "execution_count": 171,
   "metadata": {},
   "outputs": [
    {
     "data": {
      "text/plain": [
       "array([[ 7.58127919],\n",
       "       [ 5.98824572],\n",
       "       [ 4.39488179],\n",
       "       [ 6.8846358 ],\n",
       "       [23.61431369],\n",
       "       [50.74367746],\n",
       "       [68.45252854],\n",
       "       [78.07489413],\n",
       "       [81.48716129],\n",
       "       [82.77865759]])"
      ]
     },
     "execution_count": 171,
     "metadata": {},
     "output_type": "execute_result"
    }
   ],
   "source": [
    "validation_error_lamb"
   ]
  },
  {
   "cell_type": "markdown",
   "metadata": {},
   "source": [
    "It can be seen that the least error value for the validation set is the third (4.17235022)."
   ]
  },
  {
   "cell_type": "markdown",
   "metadata": {},
   "source": [
    "### Computing test set error"
   ]
  },
  {
   "cell_type": "markdown",
   "metadata": {},
   "source": [
    "Now that we have tuned our $\\lambda$ parameter we can run our model on the test set."
   ]
  },
  {
   "cell_type": "code",
   "execution_count": 31,
   "metadata": {},
   "outputs": [
    {
     "name": "stdout",
     "output_type": "stream",
     "text": [
      "The test error at the optimal lambda = 0.003 is equal to 3.14\n"
     ]
    }
   ],
   "source": [
    "initial_theta = np.ones((X_poly.shape[1], 1))\n",
    "lamb = 0.003\n",
    "alpha = 0.001\n",
    "iterations = 10000\n",
    "\n",
    "theta_optimal, J_history_poly = gradientDescent(X_poly, y, initial_theta, alpha, iterations, lamb)\n",
    "\n",
    "test_error = costFunctionReg(theta_optimal, X_poly_test, y_test, 0)\n",
    "print(\"The test error at the optimal lambda = 0.003 is equal to %.2f\" % test_error)"
   ]
  },
  {
   "cell_type": "code",
   "execution_count": 33,
   "metadata": {},
   "outputs": [],
   "source": [
    "#fig = plt.figure()\n",
    "#ax = fig.add_subplot(1, 1, 1) \n",
    "#ax.plot(X_test, y_test, 'x', color='r')\n",
    "#X_fit, X_poly_fit = plotFit(min(X), max(X), mean, sigma, p)\n",
    "#ax.plot(X_fit, np.dot(X_poly_fit, theta_optimal), '--', color='blue')\n",
    "#plt.xlabel('Change in water level (x)')\n",
    "#plt.ylabel('Water flowing out of the dam (y)')\n",
    "#plt.show()"
   ]
  },
  {
   "cell_type": "markdown",
   "metadata": {},
   "source": [
    "<img src=\"article/bias-variance/img/8.png\" alt=\"\" style=\"width: 1000px;\"/>"
   ]
  },
  {
   "cell_type": "markdown",
   "metadata": {},
   "source": [
    "As it can be seen, the polynomial fit follows the data trend well! What abou the learning curve? Let's plot them!"
   ]
  },
  {
   "cell_type": "code",
   "execution_count": 35,
   "metadata": {},
   "outputs": [],
   "source": [
    "#error_train_poly, error_val_poly = learningCurve(X_poly, y, X_poly_val, y_val, lamb)\n",
    "#fig = plt.figure()\n",
    "#ax = fig.add_subplot(1, 1, 1)\n",
    "#ax.plot(range(X_poly.shape[0]), error_train_poly, label = 'Training set error')\n",
    "#ax.plot(range(X_poly.shape[0]), error_val_poly, label = 'Validation set error')\n",
    "#legend = ax.legend(loc='upper center', shadow=True)\n",
    "#plt.ylabel('Error')\n",
    "#plt.xlabel('Training samples')\n",
    "#plt.show()"
   ]
  },
  {
   "cell_type": "markdown",
   "metadata": {},
   "source": [
    "<img src=\"article/bias-variance/img/9.png\" alt=\"\" style=\"width: 1000px;\"/>"
   ]
  },
  {
   "cell_type": "markdown",
   "metadata": {},
   "source": [
    "We can notice that both the cross validation and trainig set error converge to a relatively low value and that there is no evident gab between them. \n",
    "\n",
    "So we managed to create a model with no bias and no variance! Great!"
   ]
  }
 ],
 "metadata": {
  "kernelspec": {
   "display_name": "Python 3",
   "language": "python",
   "name": "python3"
  },
  "language_info": {
   "codemirror_mode": {
    "name": "ipython",
    "version": 3
   },
   "file_extension": ".py",
   "mimetype": "text/x-python",
   "name": "python",
   "nbconvert_exporter": "python",
   "pygments_lexer": "ipython3",
   "version": "3.6.6"
  }
 },
 "nbformat": 4,
 "nbformat_minor": 2
}
